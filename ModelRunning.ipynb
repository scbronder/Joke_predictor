{
 "cells": [
  {
   "cell_type": "code",
   "execution_count": 1,
   "metadata": {},
   "outputs": [],
   "source": [
    "from datasaurus import *\n",
    "from fengineer import *"
   ]
  },
  {
   "cell_type": "code",
   "execution_count": 2,
   "metadata": {},
   "outputs": [],
   "source": [
    "#Data Formatting Params\n",
    "stem = 'stem'\n",
    "english = True\n",
    "\n",
    "#Feature Engineering Params\n",
    "tf_idf_rate = 0.2\n",
    "pca_num = 50\n",
    "\n",
    "data_params={'stem': stem, 'english': english, 'tf_idf_rate': tf_idf_rate, 'pca_num': pca_num}"
   ]
  },
  {
   "cell_type": "code",
   "execution_count": 3,
   "metadata": {},
   "outputs": [
    {
     "name": "stderr",
     "output_type": "stream",
     "text": [
      "/Users/flatironschool/Documents/module3_project/jokes/jokes/datasaurus.py:26: SettingWithCopyWarning: \n",
      "A value is trying to be set on a copy of a slice from a DataFrame.\n",
      "Try using .loc[row_indexer,col_indexer] = value instead\n",
      "\n",
      "See the caveats in the documentation: http://pandas.pydata.org/pandas-docs/stable/indexing.html#indexing-view-versus-copy\n",
      "  funnies['label'] = 1\n",
      "/Users/flatironschool/Documents/module3_project/jokes/jokes/datasaurus.py:28: SettingWithCopyWarning: \n",
      "A value is trying to be set on a copy of a slice from a DataFrame.\n",
      "Try using .loc[row_indexer,col_indexer] = value instead\n",
      "\n",
      "See the caveats in the documentation: http://pandas.pydata.org/pandas-docs/stable/indexing.html#indexing-view-versus-copy\n",
      "  duds['label'] = 0\n"
     ]
    }
   ],
   "source": [
    "data = transform_data(sample_data(), stem=stem, english=english)"
   ]
  },
  {
   "cell_type": "code",
   "execution_count": 4,
   "metadata": {},
   "outputs": [],
   "source": [
    "fengineer = Fengineer(tf_idf_rate=tf_idf_rate, pca_num=pca_num)"
   ]
  },
  {
   "cell_type": "code",
   "execution_count": 5,
   "metadata": {
    "scrolled": true
   },
   "outputs": [],
   "source": [
    "data_feng = fengineer.engineer_features(data)"
   ]
  },
  {
   "cell_type": "code",
   "execution_count": 6,
   "metadata": {},
   "outputs": [],
   "source": [
    "target = data_feng['_label']\n",
    "features = data_feng.drop('_label', axis=1)"
   ]
  },
  {
   "cell_type": "code",
   "execution_count": 7,
   "metadata": {},
   "outputs": [],
   "source": [
    "from sklearn.model_selection import train_test_split\n",
    "\n",
    "x_train, x_test, y_train, y_test = train_test_split(features, target, test_size=0.2)"
   ]
  },
  {
   "cell_type": "code",
   "execution_count": 8,
   "metadata": {},
   "outputs": [],
   "source": [
    "from sklearn.metrics import precision_score, recall_score, accuracy_score, f1_score\n",
    "\n",
    "def print_metrics(labels, preds):\n",
    "    print(\"Precision Score: {}\".format(precision_score(labels, preds)))\n",
    "    print(\"Recall Score: {}\".format(recall_score(labels, preds)))\n",
    "    print(\"Accuracy Score: {}\".format(accuracy_score(labels, preds)))\n",
    "    print(\"F1 Score: {}\".format(f1_score(labels, preds)))"
   ]
  },
  {
   "cell_type": "code",
   "execution_count": 9,
   "metadata": {},
   "outputs": [],
   "source": [
    "from sklearn.model_selection import GridSearchCV\n",
    "import os\n",
    "\n",
    "#return the fitted grid search...\n",
    "#model is non-parameterized model to grid search, params are the params of interest\n",
    "#filename is a file to write results to in csv format\n",
    "\n",
    "#TODO: edit so it writes more metrics? idk. \n",
    "def write_results(results, directory, data_params, filename):\n",
    "    if not os.path.exists(directory):\n",
    "        os.makedirs(directory)\n",
    "    df = pd.DataFrame.from_dict(dict(results), orient=\"index\")\n",
    "    data_param_string = '_'.join([str(x) + '-' + str(data_params[x]) for x in data_params.keys()])\n",
    "    df.to_csv(directory + filename + '_' + data_param_string + '.csv')"
   ]
  },
  {
   "cell_type": "code",
   "execution_count": 10,
   "metadata": {},
   "outputs": [],
   "source": [
    "#Use this function to perform grid search! It will automatically write to 'models/' directory.\n",
    "#NOTE: data_params is just the values we used to build the data and do feature engineering... \n",
    "#it gets passed in because we need to make a note of it in the file where the outputs for the model go.\n",
    "\n",
    "def grid_search(model, x_train, y_train, param_grid, data_params, filepath='models/'):\n",
    "    clf = model\n",
    "    gs_tree = GridSearchCV(clf, param_grid, cv=5)\n",
    "    gs_tree.fit(x_train, y_train)\n",
    "    results = gs_tree.cv_results_\n",
    "    model_str = str(model)\n",
    "    model_str = model_str[0:model_str.find('(')]\n",
    "    write_results(results, filepath + model_str + '/', data_params, str(param_grid))\n",
    "    return results"
   ]
  },
  {
   "cell_type": "code",
   "execution_count": 20,
   "metadata": {},
   "outputs": [
    {
     "data": {
      "text/html": [
       "<div>\n",
       "<style scoped>\n",
       "    .dataframe tbody tr th:only-of-type {\n",
       "        vertical-align: middle;\n",
       "    }\n",
       "\n",
       "    .dataframe tbody tr th {\n",
       "        vertical-align: top;\n",
       "    }\n",
       "\n",
       "    .dataframe thead th {\n",
       "        text-align: right;\n",
       "    }\n",
       "</style>\n",
       "<table border=\"1\" class=\"dataframe\">\n",
       "  <thead>\n",
       "    <tr style=\"text-align: right;\">\n",
       "      <th></th>\n",
       "      <th>0</th>\n",
       "      <th>1</th>\n",
       "      <th>2</th>\n",
       "      <th>3</th>\n",
       "      <th>4</th>\n",
       "      <th>5</th>\n",
       "      <th>6</th>\n",
       "      <th>7</th>\n",
       "      <th>8</th>\n",
       "      <th>9</th>\n",
       "      <th>...</th>\n",
       "      <th>291</th>\n",
       "      <th>292</th>\n",
       "      <th>293</th>\n",
       "      <th>294</th>\n",
       "      <th>295</th>\n",
       "      <th>296</th>\n",
       "      <th>297</th>\n",
       "      <th>298</th>\n",
       "      <th>299</th>\n",
       "      <th>_label</th>\n",
       "    </tr>\n",
       "  </thead>\n",
       "  <tbody>\n",
       "    <tr>\n",
       "      <th>5tyqag</th>\n",
       "      <td>2.922102</td>\n",
       "      <td>1.546675</td>\n",
       "      <td>-4.565186</td>\n",
       "      <td>-2.415032</td>\n",
       "      <td>4.903563</td>\n",
       "      <td>2.117861</td>\n",
       "      <td>-0.113742</td>\n",
       "      <td>1.495028</td>\n",
       "      <td>-0.297710</td>\n",
       "      <td>-0.549989</td>\n",
       "      <td>...</td>\n",
       "      <td>-0.277125</td>\n",
       "      <td>0.337885</td>\n",
       "      <td>-0.101205</td>\n",
       "      <td>0.417163</td>\n",
       "      <td>0.103463</td>\n",
       "      <td>-0.002004</td>\n",
       "      <td>-0.132312</td>\n",
       "      <td>0.017878</td>\n",
       "      <td>-0.008045</td>\n",
       "      <td>1</td>\n",
       "    </tr>\n",
       "    <tr>\n",
       "      <th>5txxsu</th>\n",
       "      <td>-0.888196</td>\n",
       "      <td>0.035620</td>\n",
       "      <td>0.250953</td>\n",
       "      <td>-0.098151</td>\n",
       "      <td>0.048721</td>\n",
       "      <td>0.014222</td>\n",
       "      <td>0.049569</td>\n",
       "      <td>0.000237</td>\n",
       "      <td>-0.011350</td>\n",
       "      <td>0.038969</td>\n",
       "      <td>...</td>\n",
       "      <td>-0.020590</td>\n",
       "      <td>0.099165</td>\n",
       "      <td>0.060755</td>\n",
       "      <td>-0.047182</td>\n",
       "      <td>0.010591</td>\n",
       "      <td>0.017745</td>\n",
       "      <td>-0.051926</td>\n",
       "      <td>-0.016032</td>\n",
       "      <td>0.045021</td>\n",
       "      <td>1</td>\n",
       "    </tr>\n",
       "    <tr>\n",
       "      <th>5tx5ur</th>\n",
       "      <td>-0.333514</td>\n",
       "      <td>0.183209</td>\n",
       "      <td>-0.155094</td>\n",
       "      <td>-0.174504</td>\n",
       "      <td>0.023125</td>\n",
       "      <td>-0.135158</td>\n",
       "      <td>-0.368292</td>\n",
       "      <td>-0.204076</td>\n",
       "      <td>0.008149</td>\n",
       "      <td>-0.167633</td>\n",
       "      <td>...</td>\n",
       "      <td>0.207539</td>\n",
       "      <td>0.005172</td>\n",
       "      <td>0.002223</td>\n",
       "      <td>-0.105697</td>\n",
       "      <td>0.060912</td>\n",
       "      <td>0.027206</td>\n",
       "      <td>-0.124054</td>\n",
       "      <td>-0.031305</td>\n",
       "      <td>-0.055178</td>\n",
       "      <td>1</td>\n",
       "    </tr>\n",
       "    <tr>\n",
       "      <th>5twufa</th>\n",
       "      <td>1.338863</td>\n",
       "      <td>-2.121422</td>\n",
       "      <td>0.841189</td>\n",
       "      <td>-0.192709</td>\n",
       "      <td>-0.035449</td>\n",
       "      <td>-0.179740</td>\n",
       "      <td>-0.377715</td>\n",
       "      <td>0.115555</td>\n",
       "      <td>0.207197</td>\n",
       "      <td>-0.925741</td>\n",
       "      <td>...</td>\n",
       "      <td>0.118350</td>\n",
       "      <td>-0.197184</td>\n",
       "      <td>-0.035026</td>\n",
       "      <td>0.103808</td>\n",
       "      <td>-0.067812</td>\n",
       "      <td>0.005638</td>\n",
       "      <td>0.151855</td>\n",
       "      <td>0.111031</td>\n",
       "      <td>0.160864</td>\n",
       "      <td>1</td>\n",
       "    </tr>\n",
       "    <tr>\n",
       "      <th>5twqzh</th>\n",
       "      <td>-0.886488</td>\n",
       "      <td>0.034237</td>\n",
       "      <td>0.261263</td>\n",
       "      <td>-0.090178</td>\n",
       "      <td>0.038020</td>\n",
       "      <td>-0.000824</td>\n",
       "      <td>0.052063</td>\n",
       "      <td>-0.011013</td>\n",
       "      <td>-0.011288</td>\n",
       "      <td>0.037753</td>\n",
       "      <td>...</td>\n",
       "      <td>-0.016688</td>\n",
       "      <td>0.011615</td>\n",
       "      <td>-0.076655</td>\n",
       "      <td>0.098216</td>\n",
       "      <td>0.033823</td>\n",
       "      <td>0.034235</td>\n",
       "      <td>0.040367</td>\n",
       "      <td>0.018773</td>\n",
       "      <td>0.057034</td>\n",
       "      <td>1</td>\n",
       "    </tr>\n",
       "  </tbody>\n",
       "</table>\n",
       "<p>5 rows × 301 columns</p>\n",
       "</div>"
      ],
      "text/plain": [
       "               0         1         2         3         4         5         6  \\\n",
       "5tyqag  2.922102  1.546675 -4.565186 -2.415032  4.903563  2.117861 -0.113742   \n",
       "5txxsu -0.888196  0.035620  0.250953 -0.098151  0.048721  0.014222  0.049569   \n",
       "5tx5ur -0.333514  0.183209 -0.155094 -0.174504  0.023125 -0.135158 -0.368292   \n",
       "5twufa  1.338863 -2.121422  0.841189 -0.192709 -0.035449 -0.179740 -0.377715   \n",
       "5twqzh -0.886488  0.034237  0.261263 -0.090178  0.038020 -0.000824  0.052063   \n",
       "\n",
       "               7         8         9   ...         291       292       293  \\\n",
       "5tyqag  1.495028 -0.297710 -0.549989   ...   -0.277125  0.337885 -0.101205   \n",
       "5txxsu  0.000237 -0.011350  0.038969   ...   -0.020590  0.099165  0.060755   \n",
       "5tx5ur -0.204076  0.008149 -0.167633   ...    0.207539  0.005172  0.002223   \n",
       "5twufa  0.115555  0.207197 -0.925741   ...    0.118350 -0.197184 -0.035026   \n",
       "5twqzh -0.011013 -0.011288  0.037753   ...   -0.016688  0.011615 -0.076655   \n",
       "\n",
       "             294       295       296       297       298       299  _label  \n",
       "5tyqag  0.417163  0.103463 -0.002004 -0.132312  0.017878 -0.008045       1  \n",
       "5txxsu -0.047182  0.010591  0.017745 -0.051926 -0.016032  0.045021       1  \n",
       "5tx5ur -0.105697  0.060912  0.027206 -0.124054 -0.031305 -0.055178       1  \n",
       "5twufa  0.103808 -0.067812  0.005638  0.151855  0.111031  0.160864       1  \n",
       "5twqzh  0.098216  0.033823  0.034235  0.040367  0.018773  0.057034       1  \n",
       "\n",
       "[5 rows x 301 columns]"
      ]
     },
     "execution_count": 20,
     "metadata": {},
     "output_type": "execute_result"
    }
   ],
   "source": [
    "data_feng.head()"
   ]
  },
  {
   "cell_type": "code",
   "execution_count": 36,
   "metadata": {},
   "outputs": [
    {
     "name": "stdout",
     "output_type": "stream",
     "text": [
      "Precision Score: 0.30152604806174355\n",
      "Recall Score: 0.7118012422360248\n",
      "Accuracy Score: 0.5865665046398586\n",
      "F1 Score: 0.4236076885165106\n"
     ]
    }
   ],
   "source": [
    "print_metrics(nb_classifier.predict(x_test), y_test)"
   ]
  },
  {
   "cell_type": "code",
   "execution_count": 42,
   "metadata": {},
   "outputs": [],
   "source": [
    "# Multinomial Naive Bayes GridSearch - SCOTT: DO THIS ONE, choose some params, follow KNN Grid Search cell \n",
    "from sklearn.naive_bayes import GaussianNB\n",
    "nb_classifier = GaussianNB()\n",
    "nb_classifier.fit(x_train, y_train)\n",
    "# print_metrics(nb_classifier.predict(x_test), y_test)\n",
    "param_grid = {\n",
    "    'priors': []\n",
    "    'var_smoothing':[1e-09]\n",
    "}\n",
    "results = grid_search(nb_classifier, x_train, y_train, param_grid, data_params)"
   ]
  },
  {
   "cell_type": "code",
   "execution_count": 24,
   "metadata": {},
   "outputs": [],
   "source": [
    "# KNN Grid Search\n",
    "from sklearn.neighbors import KNeighborsClassifier\n",
    "knn_clf = KNeighborsClassifier()\n",
    "param_grid = {\n",
    "    'n_neighbors': [1], \n",
    "    'p': [2], \n",
    "    'n_jobs': [5]\n",
    "}\n",
    "results = grid_search(knn_clf, x_train, y_train, param_grid, data_params)"
   ]
  },
  {
   "cell_type": "code",
   "execution_count": null,
   "metadata": {},
   "outputs": [],
   "source": [
    "# Random Forest Grid Search - SCOTT: DO THIS ONE, choose some params, follow KNN Grid Search cell \n",
    "from sklearn.ensemble import RandomForestClassifier\n",
    "rf_classifier = RandomForestClassifier()\n",
    "param_grid = {\n",
    "    'n_estimators': [100]\n",
    "}\n",
    "results = grid_search(rf_classifier, x_train, y_train, param_grid, data_params)"
   ]
  },
  {
   "cell_type": "code",
   "execution_count": null,
   "metadata": {},
   "outputs": [],
   "source": [
    "# SVM Grid Search\n",
    "from sklearn import svm\n",
    "\n",
    "svm_clf = svm.SVC(kernel='linear')\n",
    "param_grid = {\n",
    "    'kernel': ['linear'],\n",
    "    'degree': [1]   \n",
    "}\n",
    "results = grid_search(svm_clf, x_train, y_train, param_grid, data_params)"
   ]
  },
  {
   "cell_type": "code",
   "execution_count": null,
   "metadata": {},
   "outputs": [],
   "source": [
    "#XGBooster\n",
    "import xgboost as xgb\n",
    "xgb_clf = xgb.XGBClassifier()\n",
    "param_grid = {\n",
    "    'max_depth': [5],\n",
    "    'n_estimators': [100],\n",
    "    'n_jobs': [2]    \n",
    "}\n",
    "results = grid_search(xgb_clf, x_train, y_train, param_grid, data_params)"
   ]
  },
  {
   "cell_type": "code",
   "execution_count": null,
   "metadata": {},
   "outputs": [],
   "source": []
  }
 ],
 "metadata": {
  "kernelspec": {
   "display_name": "Python 3",
   "language": "python",
   "name": "python3"
  },
  "language_info": {
   "codemirror_mode": {
    "name": "ipython",
    "version": 3
   },
   "file_extension": ".py",
   "mimetype": "text/x-python",
   "name": "python",
   "nbconvert_exporter": "python",
   "pygments_lexer": "ipython3",
   "version": "3.6.7"
  }
 },
 "nbformat": 4,
 "nbformat_minor": 2
}
